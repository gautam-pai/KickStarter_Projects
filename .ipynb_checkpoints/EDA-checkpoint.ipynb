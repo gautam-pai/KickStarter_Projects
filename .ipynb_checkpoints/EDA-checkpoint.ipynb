{
 "cells": [
  {
   "cell_type": "code",
   "execution_count": 2,
   "metadata": {},
   "outputs": [],
   "source": [
    "import pandas as pd\n",
    "import numpy as np\n",
    "import warnings\n",
    "warnings.filterwarnings('ignore')"
   ]
  },
  {
   "cell_type": "markdown",
   "metadata": {},
   "source": [
    "#### Read File"
   ]
  },
  {
   "cell_type": "code",
   "execution_count": 3,
   "metadata": {},
   "outputs": [],
   "source": [
    "df2016=pd.read_csv('ks-projects-201612.csv')\n",
    "df2018=pd.read_csv('ks-projects-201801.csv')"
   ]
  },
  {
   "cell_type": "markdown",
   "metadata": {},
   "source": [
    "#### Data Cleaning"
   ]
  },
  {
   "cell_type": "code",
   "execution_count": 4,
   "metadata": {},
   "outputs": [
    {
     "data": {
      "text/plain": [
       "Index(['ID ', 'name ', 'category ', 'main_category ', 'currency ', 'deadline ',\n",
       "       'goal ', 'launched ', 'pledged ', 'state ', 'backers ', 'country ',\n",
       "       'usd pledged ', 'Unnamed: 13', 'Unnamed: 14', 'Unnamed: 15',\n",
       "       'Unnamed: 16'],\n",
       "      dtype='object')"
      ]
     },
     "execution_count": 4,
     "metadata": {},
     "output_type": "execute_result"
    }
   ],
   "source": [
    "df2016.columns\n"
   ]
  },
  {
   "cell_type": "code",
   "execution_count": 5,
   "metadata": {},
   "outputs": [
    {
     "data": {
      "text/plain": [
       "(323750, 17)"
      ]
     },
     "execution_count": 5,
     "metadata": {},
     "output_type": "execute_result"
    }
   ],
   "source": [
    "df2016.shape"
   ]
  },
  {
   "cell_type": "code",
   "execution_count": 6,
   "metadata": {},
   "outputs": [
    {
     "data": {
      "text/plain": [
       "array(['GBP', 'USD', 'CAD', 'NOK', 'AUD', 'EUR', 'MXN', 'SEK', 'NZD',\n",
       "       'CHF', 'DKK', 'HKD', 'Music', 'Food', 'Theater', 'Technology',\n",
       "       'Film & Video', 'SGD', 'Games', 'Art', 'Publishing', 'Design',\n",
       "       'Rock', 'Comics', 'Crafts', 'Photography', 'Journalism', 'Fashion',\n",
       "       'Software', 'Dance', ' Be active!', 'Nonfiction',\n",
       "       ' clothing company', 'Painting', ' tango and culture',\n",
       "       ' Religion ', 'Apparel'], dtype=object)"
      ]
     },
     "execution_count": 6,
     "metadata": {},
     "output_type": "execute_result"
    }
   ],
   "source": [
    "df2016['currency '].unique()"
   ]
  },
  {
   "cell_type": "code",
   "execution_count": 7,
   "metadata": {},
   "outputs": [
    {
     "data": {
      "text/plain": [
       "array(['GBP', 'USD', 'CAD', 'NOK', 'AUD', 'EUR', 'MXN', 'SEK', 'NZD',\n",
       "       'CHF', 'DKK', 'HKD'], dtype=object)"
      ]
     },
     "execution_count": 7,
     "metadata": {},
     "output_type": "execute_result"
    }
   ],
   "source": [
    "df2016=df2016.loc[df2016['currency '].isin(['GBP', 'USD', 'CAD', 'NOK', 'AUD', 'EUR', 'MXN', 'SEK', 'NZD',\n",
    "       'CHF', 'DKK', 'HKD'])]\n",
    "df2016['currency '].unique()"
   ]
  },
  {
   "cell_type": "code",
   "execution_count": 8,
   "metadata": {},
   "outputs": [
    {
     "data": {
      "text/plain": [
       "array(['Publishing', 'Film & Video', 'Music', 'Food', 'Design', 'Crafts',\n",
       "       'Games', 'Comics', 'Fashion', 'Theater', 'Art', 'Photography',\n",
       "       'Technology', 'Dance', 'Journalism'], dtype=object)"
      ]
     },
     "execution_count": 8,
     "metadata": {},
     "output_type": "execute_result"
    }
   ],
   "source": [
    "\n",
    "df2016['main_category '].unique()\n"
   ]
  },
  {
   "cell_type": "code",
   "execution_count": 9,
   "metadata": {},
   "outputs": [
    {
     "data": {
      "text/plain": [
       "array(['09-10-2015 11:36', '26-02-2013 00:20', '16-04-2012 04:24', ...,\n",
       "       '19-07-2011 03:35', '13-02-2016 02:00', '16-08-2011 09:07'],\n",
       "      dtype=object)"
      ]
     },
     "execution_count": 9,
     "metadata": {},
     "output_type": "execute_result"
    }
   ],
   "source": [
    "\n",
    "df2016['deadline '].unique()"
   ]
  },
  {
   "cell_type": "code",
   "execution_count": 10,
   "metadata": {},
   "outputs": [
    {
     "data": {
      "text/plain": [
       "array(['1000', '45000', '5000', ..., '4536', '33975', '28559'],\n",
       "      dtype=object)"
      ]
     },
     "execution_count": 10,
     "metadata": {},
     "output_type": "execute_result"
    }
   ],
   "source": [
    "df2016['goal '].unique()"
   ]
  },
  {
   "cell_type": "code",
   "execution_count": 11,
   "metadata": {},
   "outputs": [
    {
     "data": {
      "text/plain": [
       "array(['failed', 'canceled', 'successful', 'live', 'undefined',\n",
       "       'suspended'], dtype=object)"
      ]
     },
     "execution_count": 11,
     "metadata": {},
     "output_type": "execute_result"
    }
   ],
   "source": [
    "df2016['state '].unique()"
   ]
  },
  {
   "cell_type": "code",
   "execution_count": 12,
   "metadata": {},
   "outputs": [
    {
     "data": {
      "text/plain": [
       "array(['0', '3', '1', ..., '3478', '5828', '2314'], dtype=object)"
      ]
     },
     "execution_count": 12,
     "metadata": {},
     "output_type": "execute_result"
    }
   ],
   "source": [
    "df2016['backers '].unique()"
   ]
  },
  {
   "cell_type": "code",
   "execution_count": 13,
   "metadata": {},
   "outputs": [
    {
     "data": {
      "text/plain": [
       "0           0\n",
       "1           3\n",
       "2           1\n",
       "3          14\n",
       "4         224\n",
       "         ... \n",
       "323745      1\n",
       "323746      5\n",
       "323747      1\n",
       "323748      6\n",
       "323749     17\n",
       "Name: backers , Length: 322999, dtype: object"
      ]
     },
     "execution_count": 13,
     "metadata": {},
     "output_type": "execute_result"
    }
   ],
   "source": [
    "df2016['backers ']"
   ]
  },
  {
   "cell_type": "code",
   "execution_count": 14,
   "metadata": {},
   "outputs": [
    {
     "data": {
      "text/plain": [
       "array(['GB', 'US', 'CA', 'NO', 'AU', 'IT', 'DE', 'IE', 'ES', 'N,\"0', 'MX',\n",
       "       'SE', 'FR', 'NL', 'NZ', 'CH', 'AT', 'BE', 'DK', 'HK', 'LU'],\n",
       "      dtype=object)"
      ]
     },
     "execution_count": 14,
     "metadata": {},
     "output_type": "execute_result"
    }
   ],
   "source": [
    "df2016['country '].unique()"
   ]
  },
  {
   "cell_type": "code",
   "execution_count": 15,
   "metadata": {},
   "outputs": [],
   "source": [
    "df2016=df2016[df2016['country ']!='N,\"0']"
   ]
  },
  {
   "cell_type": "code",
   "execution_count": 16,
   "metadata": {},
   "outputs": [
    {
     "data": {
      "text/plain": [
       "Index(['ID ', 'name ', 'category ', 'main_category ', 'currency ', 'deadline ',\n",
       "       'goal ', 'launched ', 'pledged ', 'state ', 'backers ', 'country ',\n",
       "       'usd pledged ', 'Unnamed: 13', 'Unnamed: 14', 'Unnamed: 15',\n",
       "       'Unnamed: 16'],\n",
       "      dtype='object')"
      ]
     },
     "execution_count": 16,
     "metadata": {},
     "output_type": "execute_result"
    }
   ],
   "source": [
    "df2016.columns"
   ]
  },
  {
   "cell_type": "code",
   "execution_count": 17,
   "metadata": {},
   "outputs": [],
   "source": [
    "df2016.drop(['Unnamed: 13', 'Unnamed: 14', 'Unnamed: 15',\n",
    "       'Unnamed: 16'],inplace=True,axis=1)"
   ]
  },
  {
   "cell_type": "code",
   "execution_count": 18,
   "metadata": {},
   "outputs": [
    {
     "name": "stdout",
     "output_type": "stream",
     "text": [
      "<class 'pandas.core.frame.DataFrame'>\n",
      "Index: 319209 entries, 0 to 323749\n",
      "Data columns (total 13 columns):\n",
      " #   Column          Non-Null Count   Dtype \n",
      "---  ------          --------------   ----- \n",
      " 0   ID              319209 non-null  int64 \n",
      " 1   name            319205 non-null  object\n",
      " 2   category        319209 non-null  object\n",
      " 3   main_category   319209 non-null  object\n",
      " 4   currency        319209 non-null  object\n",
      " 5   deadline        319209 non-null  object\n",
      " 6   goal            319209 non-null  object\n",
      " 7   launched        319209 non-null  object\n",
      " 8   pledged         319209 non-null  object\n",
      " 9   state           319209 non-null  object\n",
      " 10  backers         319209 non-null  object\n",
      " 11  country         319209 non-null  object\n",
      " 12  usd pledged     319209 non-null  object\n",
      "dtypes: int64(1), object(12)\n",
      "memory usage: 34.1+ MB\n"
     ]
    }
   ],
   "source": [
    "df2016.info()"
   ]
  },
  {
   "cell_type": "code",
   "execution_count": 19,
   "metadata": {},
   "outputs": [
    {
     "data": {
      "text/plain": [
       "ID                0\n",
       "name              4\n",
       "category          0\n",
       "main_category     0\n",
       "currency          0\n",
       "deadline          0\n",
       "goal              0\n",
       "launched          0\n",
       "pledged           0\n",
       "state             0\n",
       "backers           0\n",
       "country           0\n",
       "usd pledged       0\n",
       "dtype: int64"
      ]
     },
     "execution_count": 19,
     "metadata": {},
     "output_type": "execute_result"
    }
   ],
   "source": [
    "df2016.isna().sum()"
   ]
  },
  {
   "cell_type": "code",
   "execution_count": 20,
   "metadata": {},
   "outputs": [],
   "source": [
    "df2016.reset_index(inplace=True)"
   ]
  },
  {
   "cell_type": "code",
   "execution_count": 21,
   "metadata": {},
   "outputs": [],
   "source": [
    "df2016['ID ']=df2016['ID '].astype(int)\n",
    "df2016['name ']=df2016['name '].astype(str)\n",
    "df2016['category ']=df2016['category '].astype(str)\n",
    "df2016['name ']=df2016['name '].astype(str)\n"
   ]
  },
  {
   "cell_type": "markdown",
   "metadata": {},
   "source": [
    "### EDA"
   ]
  },
  {
   "cell_type": "markdown",
   "metadata": {},
   "source": [
    "##### Category"
   ]
  },
  {
   "cell_type": "code",
   "execution_count": 22,
   "metadata": {},
   "outputs": [
    {
     "data": {
      "text/plain": [
       "1000004038"
      ]
     },
     "execution_count": 22,
     "metadata": {},
     "output_type": "execute_result"
    }
   ],
   "source": [
    "df2016['ID '][1]"
   ]
  },
  {
   "cell_type": "code",
   "execution_count": 26,
   "metadata": {},
   "outputs": [
    {
     "name": "stdout",
     "output_type": "stream",
     "text": [
      "<class 'pandas.core.frame.DataFrame'>\n",
      "RangeIndex: 319209 entries, 0 to 319208\n",
      "Data columns (total 27 columns):\n",
      " #   Column          Non-Null Count   Dtype        \n",
      "---  ------          --------------   -----        \n",
      " 0   index           319209 non-null  int64        \n",
      " 1   ID              319209 non-null  int32        \n",
      " 2   name            319209 non-null  object       \n",
      " 3   category        319209 non-null  object       \n",
      " 4   main_category   319209 non-null  object       \n",
      " 5   currency        319209 non-null  object       \n",
      " 6   deadline        319209 non-null  object       \n",
      " 7   goal            319209 non-null  object       \n",
      " 8   launched        319209 non-null  object       \n",
      " 9   pledged         319209 non-null  object       \n",
      " 10  state           319209 non-null  object       \n",
      " 11  backers         319209 non-null  object       \n",
      " 12  country         319209 non-null  object       \n",
      " 13  usd pledged     319209 non-null  object       \n",
      " 14  ID              319209 non-null  int32        \n",
      " 15  name            319209 non-null  object       \n",
      " 16  category        319209 non-null  object       \n",
      " 17  main_category   319209 non-null  object       \n",
      " 18  currency        319209 non-null  object       \n",
      " 19  deadline        319209 non-null  datetime64[s]\n",
      " 20  goal            319209 non-null  float64      \n",
      " 21  launched        319209 non-null  datetime64[s]\n",
      " 22  pledged         319209 non-null  float64      \n",
      " 23  state           319209 non-null  object       \n",
      " 24  backers         319209 non-null  int32        \n",
      " 25  country         319209 non-null  object       \n",
      " 26  usd pledged     319209 non-null  float64      \n",
      "dtypes: datetime64[s](2), float64(3), int32(3), int64(1), object(18)\n",
      "memory usage: 62.1+ MB\n"
     ]
    }
   ],
   "source": [
    "df2016.info()"
   ]
  },
  {
   "cell_type": "code",
   "execution_count": 25,
   "metadata": {},
   "outputs": [
    {
     "data": {
      "text/html": [
       "<div>\n",
       "<style scoped>\n",
       "    .dataframe tbody tr th:only-of-type {\n",
       "        vertical-align: middle;\n",
       "    }\n",
       "\n",
       "    .dataframe tbody tr th {\n",
       "        vertical-align: top;\n",
       "    }\n",
       "\n",
       "    .dataframe thead th {\n",
       "        text-align: right;\n",
       "    }\n",
       "</style>\n",
       "<table border=\"1\" class=\"dataframe\">\n",
       "  <thead>\n",
       "    <tr style=\"text-align: right;\">\n",
       "      <th></th>\n",
       "      <th>index</th>\n",
       "      <th>ID</th>\n",
       "      <th>name</th>\n",
       "      <th>category</th>\n",
       "      <th>main_category</th>\n",
       "      <th>currency</th>\n",
       "      <th>deadline</th>\n",
       "      <th>goal</th>\n",
       "      <th>launched</th>\n",
       "      <th>pledged</th>\n",
       "      <th>state</th>\n",
       "      <th>backers</th>\n",
       "      <th>country</th>\n",
       "      <th>usd pledged</th>\n",
       "    </tr>\n",
       "  </thead>\n",
       "  <tbody>\n",
       "    <tr>\n",
       "      <th>0</th>\n",
       "      <td>0</td>\n",
       "      <td>1000002330</td>\n",
       "      <td>The Songs of Adelaide &amp; Abullah</td>\n",
       "      <td>Poetry</td>\n",
       "      <td>Publishing</td>\n",
       "      <td>GBP</td>\n",
       "      <td>2015-09-10 11:36:00</td>\n",
       "      <td>1000.0</td>\n",
       "      <td>2015-11-08 12:12:00</td>\n",
       "      <td>0.0</td>\n",
       "      <td>failed</td>\n",
       "      <td>0</td>\n",
       "      <td>GB</td>\n",
       "      <td>0.0</td>\n",
       "    </tr>\n",
       "    <tr>\n",
       "      <th>1</th>\n",
       "      <td>1</td>\n",
       "      <td>1000004038</td>\n",
       "      <td>Where is Hank?</td>\n",
       "      <td>Narrative Film</td>\n",
       "      <td>Film &amp; Video</td>\n",
       "      <td>USD</td>\n",
       "      <td>2013-02-26 00:20:00</td>\n",
       "      <td>45000.0</td>\n",
       "      <td>2013-12-01 00:20:00</td>\n",
       "      <td>220.0</td>\n",
       "      <td>failed</td>\n",
       "      <td>3</td>\n",
       "      <td>US</td>\n",
       "      <td>220.0</td>\n",
       "    </tr>\n",
       "    <tr>\n",
       "      <th>2</th>\n",
       "      <td>2</td>\n",
       "      <td>1000007540</td>\n",
       "      <td>ToshiCapital Rekordz Needs Help to Complete Album</td>\n",
       "      <td>Music</td>\n",
       "      <td>Music</td>\n",
       "      <td>USD</td>\n",
       "      <td>2012-04-16 04:24:00</td>\n",
       "      <td>5000.0</td>\n",
       "      <td>2012-03-17 03:24:00</td>\n",
       "      <td>1.0</td>\n",
       "      <td>failed</td>\n",
       "      <td>1</td>\n",
       "      <td>US</td>\n",
       "      <td>1.0</td>\n",
       "    </tr>\n",
       "    <tr>\n",
       "      <th>3</th>\n",
       "      <td>3</td>\n",
       "      <td>1000011046</td>\n",
       "      <td>Community Film Project: The Art of Neighborhoo...</td>\n",
       "      <td>Film &amp; Video</td>\n",
       "      <td>Film &amp; Video</td>\n",
       "      <td>USD</td>\n",
       "      <td>2015-08-29 01:00:00</td>\n",
       "      <td>19500.0</td>\n",
       "      <td>2015-04-07 08:35:00</td>\n",
       "      <td>1283.0</td>\n",
       "      <td>canceled</td>\n",
       "      <td>14</td>\n",
       "      <td>US</td>\n",
       "      <td>1283.0</td>\n",
       "    </tr>\n",
       "    <tr>\n",
       "      <th>4</th>\n",
       "      <td>4</td>\n",
       "      <td>1000014025</td>\n",
       "      <td>Monarch Espresso Bar</td>\n",
       "      <td>Restaurants</td>\n",
       "      <td>Food</td>\n",
       "      <td>USD</td>\n",
       "      <td>2016-01-04 13:38:00</td>\n",
       "      <td>50000.0</td>\n",
       "      <td>2016-02-26 13:38:00</td>\n",
       "      <td>52375.0</td>\n",
       "      <td>successful</td>\n",
       "      <td>224</td>\n",
       "      <td>US</td>\n",
       "      <td>52375.0</td>\n",
       "    </tr>\n",
       "    <tr>\n",
       "      <th>...</th>\n",
       "      <td>...</td>\n",
       "      <td>...</td>\n",
       "      <td>...</td>\n",
       "      <td>...</td>\n",
       "      <td>...</td>\n",
       "      <td>...</td>\n",
       "      <td>...</td>\n",
       "      <td>...</td>\n",
       "      <td>...</td>\n",
       "      <td>...</td>\n",
       "      <td>...</td>\n",
       "      <td>...</td>\n",
       "      <td>...</td>\n",
       "      <td>...</td>\n",
       "    </tr>\n",
       "    <tr>\n",
       "      <th>319204</th>\n",
       "      <td>323745</td>\n",
       "      <td>999976400</td>\n",
       "      <td>ChknTruk Nationwide Charity Drive 2014 (Canceled)</td>\n",
       "      <td>Documentary</td>\n",
       "      <td>Film &amp; Video</td>\n",
       "      <td>USD</td>\n",
       "      <td>2014-10-17 02:35:00</td>\n",
       "      <td>50000.0</td>\n",
       "      <td>2014-09-17 02:35:00</td>\n",
       "      <td>25.0</td>\n",
       "      <td>canceled</td>\n",
       "      <td>1</td>\n",
       "      <td>US</td>\n",
       "      <td>25.0</td>\n",
       "    </tr>\n",
       "    <tr>\n",
       "      <th>319205</th>\n",
       "      <td>323746</td>\n",
       "      <td>999977640</td>\n",
       "      <td>The Tribe</td>\n",
       "      <td>Narrative Film</td>\n",
       "      <td>Film &amp; Video</td>\n",
       "      <td>USD</td>\n",
       "      <td>2011-07-19 03:35:00</td>\n",
       "      <td>1500.0</td>\n",
       "      <td>2011-06-22 03:35:00</td>\n",
       "      <td>155.0</td>\n",
       "      <td>failed</td>\n",
       "      <td>5</td>\n",
       "      <td>US</td>\n",
       "      <td>155.0</td>\n",
       "    </tr>\n",
       "    <tr>\n",
       "      <th>319206</th>\n",
       "      <td>323747</td>\n",
       "      <td>999986353</td>\n",
       "      <td>Walls of Remedy- New lesbian Romantic Comedy f...</td>\n",
       "      <td>Narrative Film</td>\n",
       "      <td>Film &amp; Video</td>\n",
       "      <td>USD</td>\n",
       "      <td>2010-08-16 05:59:00</td>\n",
       "      <td>15000.0</td>\n",
       "      <td>2010-01-07 19:40:00</td>\n",
       "      <td>20.0</td>\n",
       "      <td>failed</td>\n",
       "      <td>1</td>\n",
       "      <td>US</td>\n",
       "      <td>20.0</td>\n",
       "    </tr>\n",
       "    <tr>\n",
       "      <th>319207</th>\n",
       "      <td>323748</td>\n",
       "      <td>999987933</td>\n",
       "      <td>BioDefense Education Kit</td>\n",
       "      <td>Technology</td>\n",
       "      <td>Technology</td>\n",
       "      <td>USD</td>\n",
       "      <td>2016-02-13 02:00:00</td>\n",
       "      <td>15000.0</td>\n",
       "      <td>2016-01-13 18:13:00</td>\n",
       "      <td>200.0</td>\n",
       "      <td>failed</td>\n",
       "      <td>6</td>\n",
       "      <td>US</td>\n",
       "      <td>200.0</td>\n",
       "    </tr>\n",
       "    <tr>\n",
       "      <th>319208</th>\n",
       "      <td>323749</td>\n",
       "      <td>999988282</td>\n",
       "      <td>Nou Renmen Ayiti!  We Love Haiti!</td>\n",
       "      <td>Performance Art</td>\n",
       "      <td>Art</td>\n",
       "      <td>USD</td>\n",
       "      <td>2011-08-16 09:07:00</td>\n",
       "      <td>2000.0</td>\n",
       "      <td>2011-07-19 09:07:00</td>\n",
       "      <td>524.0</td>\n",
       "      <td>failed</td>\n",
       "      <td>17</td>\n",
       "      <td>US</td>\n",
       "      <td>524.0</td>\n",
       "    </tr>\n",
       "  </tbody>\n",
       "</table>\n",
       "<p>319209 rows × 14 columns</p>\n",
       "</div>"
      ],
      "text/plain": [
       "         index          ID                                               name  \\\n",
       "0            0  1000002330                    The Songs of Adelaide & Abullah   \n",
       "1            1  1000004038                                     Where is Hank?   \n",
       "2            2  1000007540  ToshiCapital Rekordz Needs Help to Complete Album   \n",
       "3            3  1000011046  Community Film Project: The Art of Neighborhoo...   \n",
       "4            4  1000014025                               Monarch Espresso Bar   \n",
       "...        ...         ...                                                ...   \n",
       "319204  323745   999976400  ChknTruk Nationwide Charity Drive 2014 (Canceled)   \n",
       "319205  323746   999977640                                          The Tribe   \n",
       "319206  323747   999986353  Walls of Remedy- New lesbian Romantic Comedy f...   \n",
       "319207  323748   999987933                           BioDefense Education Kit   \n",
       "319208  323749   999988282                  Nou Renmen Ayiti!  We Love Haiti!   \n",
       "\n",
       "               category main_category currency            deadline     goal  \\\n",
       "0                Poetry    Publishing      GBP 2015-09-10 11:36:00   1000.0   \n",
       "1        Narrative Film  Film & Video      USD 2013-02-26 00:20:00  45000.0   \n",
       "2                 Music         Music      USD 2012-04-16 04:24:00   5000.0   \n",
       "3          Film & Video  Film & Video      USD 2015-08-29 01:00:00  19500.0   \n",
       "4           Restaurants          Food      USD 2016-01-04 13:38:00  50000.0   \n",
       "...                 ...           ...      ...                 ...      ...   \n",
       "319204      Documentary  Film & Video      USD 2014-10-17 02:35:00  50000.0   \n",
       "319205   Narrative Film  Film & Video      USD 2011-07-19 03:35:00   1500.0   \n",
       "319206   Narrative Film  Film & Video      USD 2010-08-16 05:59:00  15000.0   \n",
       "319207       Technology    Technology      USD 2016-02-13 02:00:00  15000.0   \n",
       "319208  Performance Art           Art      USD 2011-08-16 09:07:00   2000.0   \n",
       "\n",
       "                  launched  pledged       state  backers country  usd pledged  \n",
       "0      2015-11-08 12:12:00      0.0      failed        0      GB          0.0  \n",
       "1      2013-12-01 00:20:00    220.0      failed        3      US        220.0  \n",
       "2      2012-03-17 03:24:00      1.0      failed        1      US          1.0  \n",
       "3      2015-04-07 08:35:00   1283.0    canceled       14      US       1283.0  \n",
       "4      2016-02-26 13:38:00  52375.0  successful      224      US      52375.0  \n",
       "...                    ...      ...         ...      ...     ...          ...  \n",
       "319204 2014-09-17 02:35:00     25.0    canceled        1      US         25.0  \n",
       "319205 2011-06-22 03:35:00    155.0      failed        5      US        155.0  \n",
       "319206 2010-01-07 19:40:00     20.0      failed        1      US         20.0  \n",
       "319207 2016-01-13 18:13:00    200.0      failed        6      US        200.0  \n",
       "319208 2011-07-19 09:07:00    524.0      failed       17      US        524.0  \n",
       "\n",
       "[319209 rows x 14 columns]"
      ]
     },
     "execution_count": 25,
     "metadata": {},
     "output_type": "execute_result"
    }
   ],
   "source": [
    "df2016['ID']=df2016['ID '].astype(int)\n",
    "df2016['name']=df2016['name '].astype(str)\n",
    "df2016['category']=df2016['category '].astype(str)\n",
    "df2016['main_category']=df2016['main_category '].astype(str)\n",
    "df2016['currency']=df2016['currency '].astype(str)\n",
    "df2016['deadline']=df2016['deadline '].astype('datetime64[s]')\n",
    "df2016['goal']=df2016['goal '].astype(float)\n",
    "df2016['launched']=df2016['launched '].astype('datetime64[s]')\n",
    "df2016['pledged']=df2016['pledged '].astype(float)\n",
    "df2016['state']=df2016['state '].astype(str)\n",
    "df2016['backers']=df2016['backers '].astype(int)\n",
    "df2016['country']=df2016['country '].astype(str)\n",
    "df2016['usd pledged']=df2016['usd pledged '].astype(float)\n"
   ]
  },
  {
   "cell_type": "code",
   "execution_count": 28,
   "metadata": {},
   "outputs": [],
   "source": [
    "df2016.drop(['ID ','name ','category ','main_category ','currency ','deadline ','goal ','launched ','pledged ','state ','backers ','country ','usd pledged '],axis=1,inplace=True)"
   ]
  },
  {
   "cell_type": "code",
   "execution_count": 29,
   "metadata": {},
   "outputs": [
    {
     "name": "stdout",
     "output_type": "stream",
     "text": [
      "<class 'pandas.core.frame.DataFrame'>\n",
      "RangeIndex: 319209 entries, 0 to 319208\n",
      "Data columns (total 14 columns):\n",
      " #   Column         Non-Null Count   Dtype        \n",
      "---  ------         --------------   -----        \n",
      " 0   index          319209 non-null  int64        \n",
      " 1   ID             319209 non-null  int32        \n",
      " 2   name           319209 non-null  object       \n",
      " 3   category       319209 non-null  object       \n",
      " 4   main_category  319209 non-null  object       \n",
      " 5   currency       319209 non-null  object       \n",
      " 6   deadline       319209 non-null  datetime64[s]\n",
      " 7   goal           319209 non-null  float64      \n",
      " 8   launched       319209 non-null  datetime64[s]\n",
      " 9   pledged        319209 non-null  float64      \n",
      " 10  state          319209 non-null  object       \n",
      " 11  backers        319209 non-null  int32        \n",
      " 12  country        319209 non-null  object       \n",
      " 13  usd pledged    319209 non-null  float64      \n",
      "dtypes: datetime64[s](2), float64(3), int32(2), int64(1), object(6)\n",
      "memory usage: 31.7+ MB\n"
     ]
    }
   ],
   "source": [
    "df2016.info()"
   ]
  },
  {
   "cell_type": "code",
   "execution_count": 31,
   "metadata": {},
   "outputs": [],
   "source": [
    "main_category_counts = df2016['main_category'].value_counts()\n",
    "category_counts = df2016['category'].value_counts()\n",
    "state_counts = df2016['state'].value_counts()"
   ]
  },
  {
   "cell_type": "code",
   "execution_count": 32,
   "metadata": {},
   "outputs": [
    {
     "name": "stdout",
     "output_type": "stream",
     "text": [
      "Main Category Counts:\n",
      " main_category\n",
      "Film & Video    56772\n",
      "Music           44331\n",
      "Publishing      33718\n",
      "Games           27987\n",
      "Technology      26087\n",
      "Art             23956\n",
      "Design          23826\n",
      "Food            21188\n",
      "Fashion         18366\n",
      "Theater          9959\n",
      "Photography      9661\n",
      "Comics           8741\n",
      "Crafts           7178\n",
      "Journalism       4068\n",
      "Dance            3371\n",
      "Name: count, dtype: int64\n",
      "\n",
      "Category Counts:\n",
      " category\n",
      "Product Design    17443\n",
      "Documentary       14888\n",
      "Shorts            11681\n",
      "Music             11524\n",
      "Tabletop Games    10701\n",
      "                  ...  \n",
      "Weaving              69\n",
      "Residencies          54\n",
      "Letterpress          36\n",
      "Chiptune             33\n",
      "Taxidermy            11\n",
      "Name: count, Length: 158, dtype: int64\n",
      "\n",
      "State Counts:\n",
      " state\n",
      "failed        168079\n",
      "successful    112944\n",
      "canceled       32322\n",
      "live            4389\n",
      "suspended       1475\n",
      "Name: count, dtype: int64\n"
     ]
    }
   ],
   "source": [
    "print(\"Main Category Counts:\\n\", main_category_counts)\n",
    "print(\"\\nCategory Counts:\\n\", category_counts)\n",
    "print(\"\\nState Counts:\\n\", state_counts)"
   ]
  },
  {
   "cell_type": "code",
   "execution_count": 34,
   "metadata": {},
   "outputs": [
    {
     "data": {
      "text/plain": [
       "main_category\n",
       "Film & Video    56772\n",
       "Music           44331\n",
       "Publishing      33718\n",
       "Games           27987\n",
       "Technology      26087\n",
       "Name: count, dtype: int64"
      ]
     },
     "execution_count": 34,
     "metadata": {},
     "output_type": "execute_result"
    }
   ],
   "source": [
    "main_category_counts.head()"
   ]
  },
  {
   "cell_type": "code",
   "execution_count": null,
   "metadata": {},
   "outputs": [],
   "source": [
    "plt.figure(figsize=(10,10))\n",
    "plt.ba()"
   ]
  }
 ],
 "metadata": {
  "kernelspec": {
   "display_name": "Python 3 (ipykernel)",
   "language": "python",
   "name": "python3"
  },
  "language_info": {
   "codemirror_mode": {
    "name": "ipython",
    "version": 3
   },
   "file_extension": ".py",
   "mimetype": "text/x-python",
   "name": "python",
   "nbconvert_exporter": "python",
   "pygments_lexer": "ipython3",
   "version": "3.12.4"
  }
 },
 "nbformat": 4,
 "nbformat_minor": 4
}
