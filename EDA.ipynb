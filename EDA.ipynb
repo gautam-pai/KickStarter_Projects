{
 "cells": [
  {
   "cell_type": "code",
   "execution_count": 2,
   "metadata": {},
   "outputs": [],
   "source": [
    "import pandas as pd\n",
    "import numpy as np\n",
    "import altair as alt"
   ]
  },
  {
   "cell_type": "markdown",
   "metadata": {},
   "source": [
    "#### Read File"
   ]
  },
  {
   "cell_type": "code",
   "execution_count": 17,
   "metadata": {},
   "outputs": [
    {
     "name": "stderr",
     "output_type": "stream",
     "text": [
      "C:\\Users\\gauta\\AppData\\Local\\Temp\\ipykernel_11720\\3819313386.py:1: DtypeWarning: Columns (13,14,15) have mixed types. Specify dtype option on import or set low_memory=False.\n",
      "  df2016=pd.read_csv('ks-projects-201612.csv')\n"
     ]
    }
   ],
   "source": [
    "df2016=pd.read_csv('ks-projects-201612.csv')\n",
    "df2018=pd.read_csv('ks-projects-201801.csv')"
   ]
  },
  {
   "cell_type": "markdown",
   "metadata": {},
   "source": [
    "#### Data Cleaning"
   ]
  },
  {
   "cell_type": "code",
   "execution_count": 18,
   "metadata": {},
   "outputs": [
    {
     "data": {
      "text/plain": [
       "Index(['ID ', 'name ', 'category ', 'main_category ', 'currency ', 'deadline ',\n",
       "       'goal ', 'launched ', 'pledged ', 'state ', 'backers ', 'country ',\n",
       "       'usd pledged ', 'Unnamed: 13', 'Unnamed: 14', 'Unnamed: 15',\n",
       "       'Unnamed: 16'],\n",
       "      dtype='object')"
      ]
     },
     "execution_count": 18,
     "metadata": {},
     "output_type": "execute_result"
    }
   ],
   "source": [
    "df2016.columns\n"
   ]
  },
  {
   "cell_type": "code",
   "execution_count": 19,
   "metadata": {},
   "outputs": [
    {
     "data": {
      "text/plain": [
       "(323750, 17)"
      ]
     },
     "execution_count": 19,
     "metadata": {},
     "output_type": "execute_result"
    }
   ],
   "source": [
    "df2016.shape"
   ]
  },
  {
   "cell_type": "code",
   "execution_count": 20,
   "metadata": {},
   "outputs": [
    {
     "data": {
      "text/plain": [
       "array(['GBP', 'USD', 'CAD', 'NOK', 'AUD', 'EUR', 'MXN', 'SEK', 'NZD',\n",
       "       'CHF', 'DKK', 'HKD', 'Music', 'Food', 'Theater', 'Technology',\n",
       "       'Film & Video', 'SGD', 'Games', 'Art', 'Publishing', 'Design',\n",
       "       'Rock', 'Comics', 'Crafts', 'Photography', 'Journalism', 'Fashion',\n",
       "       'Software', 'Dance', ' Be active!', 'Nonfiction',\n",
       "       ' clothing company', 'Painting', ' tango and culture',\n",
       "       ' Religion ', 'Apparel'], dtype=object)"
      ]
     },
     "execution_count": 20,
     "metadata": {},
     "output_type": "execute_result"
    }
   ],
   "source": [
    "df2016['currency '].unique()"
   ]
  },
  {
   "cell_type": "code",
   "execution_count": 21,
   "metadata": {},
   "outputs": [
    {
     "data": {
      "text/plain": [
       "array(['GBP', 'USD', 'CAD', 'NOK', 'AUD', 'EUR', 'MXN', 'SEK', 'NZD',\n",
       "       'CHF', 'DKK', 'HKD'], dtype=object)"
      ]
     },
     "execution_count": 21,
     "metadata": {},
     "output_type": "execute_result"
    }
   ],
   "source": [
    "df2016=df2016.loc[df2016['currency '].isin(['GBP', 'USD', 'CAD', 'NOK', 'AUD', 'EUR', 'MXN', 'SEK', 'NZD',\n",
    "       'CHF', 'DKK', 'HKD'])]\n",
    "df2016['currency '].unique()"
   ]
  },
  {
   "cell_type": "code",
   "execution_count": 22,
   "metadata": {},
   "outputs": [
    {
     "data": {
      "text/plain": [
       "array(['Publishing', 'Film & Video', 'Music', 'Food', 'Design', 'Crafts',\n",
       "       'Games', 'Comics', 'Fashion', 'Theater', 'Art', 'Photography',\n",
       "       'Technology', 'Dance', 'Journalism'], dtype=object)"
      ]
     },
     "execution_count": 22,
     "metadata": {},
     "output_type": "execute_result"
    }
   ],
   "source": [
    "\n",
    "df2016['main_category '].unique()\n"
   ]
  },
  {
   "cell_type": "code",
   "execution_count": 23,
   "metadata": {},
   "outputs": [
    {
     "data": {
      "text/plain": [
       "array(['09-10-2015 11:36', '26-02-2013 00:20', '16-04-2012 04:24', ...,\n",
       "       '19-07-2011 03:35', '13-02-2016 02:00', '16-08-2011 09:07'],\n",
       "      dtype=object)"
      ]
     },
     "execution_count": 23,
     "metadata": {},
     "output_type": "execute_result"
    }
   ],
   "source": [
    "\n",
    "df2016['deadline '].unique()"
   ]
  },
  {
   "cell_type": "code",
   "execution_count": 24,
   "metadata": {},
   "outputs": [
    {
     "data": {
      "text/plain": [
       "array(['1000', '45000', '5000', ..., '4536', '33975', '28559'],\n",
       "      dtype=object)"
      ]
     },
     "execution_count": 24,
     "metadata": {},
     "output_type": "execute_result"
    }
   ],
   "source": [
    "df2016['goal '].unique()"
   ]
  },
  {
   "cell_type": "code",
   "execution_count": 25,
   "metadata": {},
   "outputs": [
    {
     "data": {
      "text/plain": [
       "array(['failed', 'canceled', 'successful', 'live', 'undefined',\n",
       "       'suspended'], dtype=object)"
      ]
     },
     "execution_count": 25,
     "metadata": {},
     "output_type": "execute_result"
    }
   ],
   "source": [
    "df2016['state '].unique()"
   ]
  },
  {
   "cell_type": "code",
   "execution_count": 26,
   "metadata": {},
   "outputs": [
    {
     "data": {
      "text/plain": [
       "array(['0', '3', '1', ..., '3478', '5828', '2314'], dtype=object)"
      ]
     },
     "execution_count": 26,
     "metadata": {},
     "output_type": "execute_result"
    }
   ],
   "source": [
    "df2016['backers '].unique()"
   ]
  },
  {
   "cell_type": "code",
   "execution_count": 27,
   "metadata": {},
   "outputs": [
    {
     "data": {
      "text/plain": [
       "0           0\n",
       "1           3\n",
       "2           1\n",
       "3          14\n",
       "4         224\n",
       "         ... \n",
       "323745      1\n",
       "323746      5\n",
       "323747      1\n",
       "323748      6\n",
       "323749     17\n",
       "Name: backers , Length: 322999, dtype: object"
      ]
     },
     "execution_count": 27,
     "metadata": {},
     "output_type": "execute_result"
    }
   ],
   "source": [
    "df2016['backers ']"
   ]
  },
  {
   "cell_type": "code",
   "execution_count": 34,
   "metadata": {},
   "outputs": [
    {
     "data": {
      "text/plain": [
       "array(['GB', 'US', 'CA', 'NO', 'AU', 'IT', 'DE', 'IE', 'ES', 'MX', 'SE',\n",
       "       'FR', 'NL', 'NZ', 'CH', 'AT', 'BE', 'DK', 'HK', 'LU'], dtype=object)"
      ]
     },
     "execution_count": 34,
     "metadata": {},
     "output_type": "execute_result"
    }
   ],
   "source": [
    "df2016['country '].unique()"
   ]
  },
  {
   "cell_type": "code",
   "execution_count": 32,
   "metadata": {},
   "outputs": [],
   "source": [
    "df2016=df2016[df2016['country ']!='N,\"0']"
   ]
  },
  {
   "cell_type": "code",
   "execution_count": 36,
   "metadata": {},
   "outputs": [
    {
     "data": {
      "text/plain": [
       "Index(['ID ', 'name ', 'category ', 'main_category ', 'currency ', 'deadline ',\n",
       "       'goal ', 'launched ', 'pledged ', 'state ', 'backers ', 'country ',\n",
       "       'usd pledged ', 'Unnamed: 13', 'Unnamed: 14', 'Unnamed: 15',\n",
       "       'Unnamed: 16'],\n",
       "      dtype='object')"
      ]
     },
     "execution_count": 36,
     "metadata": {},
     "output_type": "execute_result"
    }
   ],
   "source": [
    "df2016.columns"
   ]
  },
  {
   "cell_type": "code",
   "execution_count": 38,
   "metadata": {},
   "outputs": [],
   "source": [
    "df2016.drop(['Unnamed: 13', 'Unnamed: 14', 'Unnamed: 15',\n",
    "       'Unnamed: 16'],inplace=True,axis=1)"
   ]
  },
  {
   "cell_type": "code",
   "execution_count": 45,
   "metadata": {},
   "outputs": [
    {
     "name": "stdout",
     "output_type": "stream",
     "text": [
      "<class 'pandas.core.frame.DataFrame'>\n",
      "RangeIndex: 319209 entries, 0 to 319208\n",
      "Data columns (total 14 columns):\n",
      " #   Column          Non-Null Count   Dtype \n",
      "---  ------          --------------   ----- \n",
      " 0   index           319209 non-null  int64 \n",
      " 1   ID              319209 non-null  int64 \n",
      " 2   name            319205 non-null  object\n",
      " 3   category        319209 non-null  object\n",
      " 4   main_category   319209 non-null  object\n",
      " 5   currency        319209 non-null  object\n",
      " 6   deadline        319209 non-null  object\n",
      " 7   goal            319209 non-null  object\n",
      " 8   launched        319209 non-null  object\n",
      " 9   pledged         319209 non-null  object\n",
      " 10  state           319209 non-null  object\n",
      " 11  backers         319209 non-null  object\n",
      " 12  country         319209 non-null  object\n",
      " 13  usd pledged     319209 non-null  object\n",
      "dtypes: int64(2), object(12)\n",
      "memory usage: 34.1+ MB\n"
     ]
    }
   ],
   "source": [
    "df2016.info()"
   ]
  },
  {
   "cell_type": "code",
   "execution_count": 46,
   "metadata": {},
   "outputs": [
    {
     "data": {
      "text/plain": [
       "index             0\n",
       "ID                0\n",
       "name              4\n",
       "category          0\n",
       "main_category     0\n",
       "currency          0\n",
       "deadline          0\n",
       "goal              0\n",
       "launched          0\n",
       "pledged           0\n",
       "state             0\n",
       "backers           0\n",
       "country           0\n",
       "usd pledged       0\n",
       "dtype: int64"
      ]
     },
     "execution_count": 46,
     "metadata": {},
     "output_type": "execute_result"
    }
   ],
   "source": [
    "df2016.isna().sum()"
   ]
  },
  {
   "cell_type": "code",
   "execution_count": 44,
   "metadata": {},
   "outputs": [],
   "source": [
    "df2016.reset_index(inplace=True)"
   ]
  },
  {
   "cell_type": "code",
   "execution_count": null,
   "metadata": {},
   "outputs": [],
   "source": [
    "df2016['ID ']=df2016['ID '].astype(int)\n",
    "df2016['name ']=df2016['name '].astype(str)\n",
    "df2016['category ']=df2016['category '].astype(str)\n",
    "df2016['name ']=df2016['name '].astype(str)\n"
   ]
  },
  {
   "cell_type": "markdown",
   "metadata": {},
   "source": [
    "### EDA"
   ]
  },
  {
   "cell_type": "markdown",
   "metadata": {},
   "source": [
    "##### Category"
   ]
  },
  {
   "cell_type": "code",
   "execution_count": 62,
   "metadata": {},
   "outputs": [
    {
     "data": {
      "text/plain": [
       "1000004038"
      ]
     },
     "execution_count": 62,
     "metadata": {},
     "output_type": "execute_result"
    }
   ],
   "source": [
    "df2016['ID '][1]"
   ]
  },
  {
   "cell_type": "code",
   "execution_count": 56,
   "metadata": {},
   "outputs": [
    {
     "ename": "SchemaValidationError",
     "evalue": "Multiple errors were found.\n\nError 1: 'backers ' is an invalid value for `height`. Valid values are of type 'number' or 'object'.\n\nError 2: 'backers ' is an invalid value for `width`. Valid values are of type 'number' or 'object'.",
     "output_type": "error",
     "traceback": [
      "\u001b[1;31m---------------------------------------------------------------------------\u001b[0m",
      "\u001b[1;31mSchemaValidationError\u001b[0m                     Traceback (most recent call last)",
      "Cell \u001b[1;32mIn[56], line 1\u001b[0m\n\u001b[1;32m----> 1\u001b[0m alt\u001b[38;5;241m.\u001b[39mChart(df2016)\u001b[38;5;241m.\u001b[39mmark_point(\n\u001b[0;32m      2\u001b[0m     width\u001b[38;5;241m=\u001b[39m\u001b[38;5;124m'\u001b[39m\u001b[38;5;124mbackers \u001b[39m\u001b[38;5;124m'\u001b[39m,\n\u001b[0;32m      3\u001b[0m     height\u001b[38;5;241m=\u001b[39m\u001b[38;5;124m'\u001b[39m\u001b[38;5;124mbackers \u001b[39m\u001b[38;5;124m'\u001b[39m\n\u001b[0;32m      4\u001b[0m )\n",
      "File \u001b[1;32md:\\AppInstallationBin\\Anaconda\\NewFolder\\Lib\\site-packages\\altair\\vegalite\\v5\\schema\\mixins.py:355\u001b[0m, in \u001b[0;36mMarkMethodMixin.mark_point\u001b[1;34m(self, align, angle, aria, ariaRole, ariaRoleDescription, aspect, bandSize, baseline, binSpacing, blend, clip, color, continuousBandSize, cornerRadius, cornerRadiusBottomLeft, cornerRadiusBottomRight, cornerRadiusEnd, cornerRadiusTopLeft, cornerRadiusTopRight, cursor, description, dir, discreteBandSize, dx, dy, ellipsis, fill, fillOpacity, filled, font, fontSize, fontStyle, fontWeight, height, href, innerRadius, interpolate, invalid, limit, line, lineBreak, lineHeight, opacity, order, orient, outerRadius, padAngle, point, radius, radius2, radius2Offset, radiusOffset, shape, size, smooth, stroke, strokeCap, strokeDash, strokeDashOffset, strokeJoin, strokeMiterLimit, strokeOffset, strokeOpacity, strokeWidth, style, tension, text, theta, theta2, theta2Offset, thetaOffset, thickness, timeUnitBandPosition, timeUnitBandSize, tooltip, url, width, x, x2, x2Offset, xOffset, y, y2, y2Offset, yOffset, **kwds)\u001b[0m\n\u001b[0;32m    353\u001b[0m copy \u001b[38;5;241m=\u001b[39m \u001b[38;5;28mself\u001b[39m\u001b[38;5;241m.\u001b[39mcopy(deep\u001b[38;5;241m=\u001b[39m\u001b[38;5;28;01mFalse\u001b[39;00m)\n\u001b[0;32m    354\u001b[0m \u001b[38;5;28;01mif\u001b[39;00m \u001b[38;5;28many\u001b[39m(val \u001b[38;5;129;01mis\u001b[39;00m \u001b[38;5;129;01mnot\u001b[39;00m Undefined \u001b[38;5;28;01mfor\u001b[39;00m val \u001b[38;5;129;01min\u001b[39;00m kwds\u001b[38;5;241m.\u001b[39mvalues()):\n\u001b[1;32m--> 355\u001b[0m     copy\u001b[38;5;241m.\u001b[39mmark \u001b[38;5;241m=\u001b[39m core\u001b[38;5;241m.\u001b[39mMarkDef(\u001b[38;5;28mtype\u001b[39m\u001b[38;5;241m=\u001b[39m\u001b[38;5;124m\"\u001b[39m\u001b[38;5;124mpoint\u001b[39m\u001b[38;5;124m\"\u001b[39m, \u001b[38;5;241m*\u001b[39m\u001b[38;5;241m*\u001b[39mkwds)\n\u001b[0;32m    356\u001b[0m \u001b[38;5;28;01melse\u001b[39;00m:\n\u001b[0;32m    357\u001b[0m     copy\u001b[38;5;241m.\u001b[39mmark \u001b[38;5;241m=\u001b[39m \u001b[38;5;124m\"\u001b[39m\u001b[38;5;124mpoint\u001b[39m\u001b[38;5;124m\"\u001b[39m\n",
      "File \u001b[1;32md:\\AppInstallationBin\\Anaconda\\NewFolder\\Lib\\site-packages\\altair\\vegalite\\v5\\schema\\core.py:9657\u001b[0m, in \u001b[0;36mMarkDef.__init__\u001b[1;34m(self, type, align, angle, aria, ariaRole, ariaRoleDescription, aspect, bandSize, baseline, binSpacing, blend, clip, color, continuousBandSize, cornerRadius, cornerRadiusBottomLeft, cornerRadiusBottomRight, cornerRadiusEnd, cornerRadiusTopLeft, cornerRadiusTopRight, cursor, description, dir, discreteBandSize, dx, dy, ellipsis, fill, fillOpacity, filled, font, fontSize, fontStyle, fontWeight, height, href, innerRadius, interpolate, invalid, limit, line, lineBreak, lineHeight, opacity, order, orient, outerRadius, padAngle, point, radius, radius2, radius2Offset, radiusOffset, shape, size, smooth, stroke, strokeCap, strokeDash, strokeDashOffset, strokeJoin, strokeMiterLimit, strokeOffset, strokeOpacity, strokeWidth, style, tension, text, theta, theta2, theta2Offset, thetaOffset, thickness, timeUnitBandPosition, timeUnitBandSize, tooltip, url, width, x, x2, x2Offset, xOffset, y, y2, y2Offset, yOffset, **kwds)\u001b[0m\n\u001b[0;32m   9633\u001b[0m \u001b[38;5;28;01mdef\u001b[39;00m \u001b[38;5;21m__init__\u001b[39m(\u001b[38;5;28mself\u001b[39m, \u001b[38;5;28mtype\u001b[39m\u001b[38;5;241m=\u001b[39mUndefined, align\u001b[38;5;241m=\u001b[39mUndefined, angle\u001b[38;5;241m=\u001b[39mUndefined, aria\u001b[38;5;241m=\u001b[39mUndefined,\n\u001b[0;32m   9634\u001b[0m              ariaRole\u001b[38;5;241m=\u001b[39mUndefined, ariaRoleDescription\u001b[38;5;241m=\u001b[39mUndefined, aspect\u001b[38;5;241m=\u001b[39mUndefined,\n\u001b[0;32m   9635\u001b[0m              bandSize\u001b[38;5;241m=\u001b[39mUndefined, baseline\u001b[38;5;241m=\u001b[39mUndefined, binSpacing\u001b[38;5;241m=\u001b[39mUndefined, blend\u001b[38;5;241m=\u001b[39mUndefined,\n\u001b[1;32m   (...)\u001b[0m\n\u001b[0;32m   9655\u001b[0m              xOffset\u001b[38;5;241m=\u001b[39mUndefined, y\u001b[38;5;241m=\u001b[39mUndefined, y2\u001b[38;5;241m=\u001b[39mUndefined, y2Offset\u001b[38;5;241m=\u001b[39mUndefined, yOffset\u001b[38;5;241m=\u001b[39mUndefined,\n\u001b[0;32m   9656\u001b[0m              \u001b[38;5;241m*\u001b[39m\u001b[38;5;241m*\u001b[39mkwds):\n\u001b[1;32m-> 9657\u001b[0m     \u001b[38;5;28msuper\u001b[39m(MarkDef, \u001b[38;5;28mself\u001b[39m)\u001b[38;5;241m.\u001b[39m\u001b[38;5;21m__init__\u001b[39m(\u001b[38;5;28mtype\u001b[39m\u001b[38;5;241m=\u001b[39m\u001b[38;5;28mtype\u001b[39m, align\u001b[38;5;241m=\u001b[39malign, angle\u001b[38;5;241m=\u001b[39mangle, aria\u001b[38;5;241m=\u001b[39maria, ariaRole\u001b[38;5;241m=\u001b[39mariaRole,\n\u001b[0;32m   9658\u001b[0m                                   ariaRoleDescription\u001b[38;5;241m=\u001b[39mariaRoleDescription, aspect\u001b[38;5;241m=\u001b[39maspect,\n\u001b[0;32m   9659\u001b[0m                                   bandSize\u001b[38;5;241m=\u001b[39mbandSize, baseline\u001b[38;5;241m=\u001b[39mbaseline, binSpacing\u001b[38;5;241m=\u001b[39mbinSpacing,\n\u001b[0;32m   9660\u001b[0m                                   blend\u001b[38;5;241m=\u001b[39mblend, clip\u001b[38;5;241m=\u001b[39mclip, color\u001b[38;5;241m=\u001b[39mcolor,\n\u001b[0;32m   9661\u001b[0m                                   continuousBandSize\u001b[38;5;241m=\u001b[39mcontinuousBandSize, cornerRadius\u001b[38;5;241m=\u001b[39mcornerRadius,\n\u001b[0;32m   9662\u001b[0m                                   cornerRadiusBottomLeft\u001b[38;5;241m=\u001b[39mcornerRadiusBottomLeft,\n\u001b[0;32m   9663\u001b[0m                                   cornerRadiusBottomRight\u001b[38;5;241m=\u001b[39mcornerRadiusBottomRight,\n\u001b[0;32m   9664\u001b[0m                                   cornerRadiusEnd\u001b[38;5;241m=\u001b[39mcornerRadiusEnd,\n\u001b[0;32m   9665\u001b[0m                                   cornerRadiusTopLeft\u001b[38;5;241m=\u001b[39mcornerRadiusTopLeft,\n\u001b[0;32m   9666\u001b[0m                                   cornerRadiusTopRight\u001b[38;5;241m=\u001b[39mcornerRadiusTopRight, cursor\u001b[38;5;241m=\u001b[39mcursor,\n\u001b[0;32m   9667\u001b[0m                                   description\u001b[38;5;241m=\u001b[39mdescription, \u001b[38;5;28mdir\u001b[39m\u001b[38;5;241m=\u001b[39m\u001b[38;5;28mdir\u001b[39m,\n\u001b[0;32m   9668\u001b[0m                                   discreteBandSize\u001b[38;5;241m=\u001b[39mdiscreteBandSize, dx\u001b[38;5;241m=\u001b[39mdx, dy\u001b[38;5;241m=\u001b[39mdy,\n\u001b[0;32m   9669\u001b[0m                                   ellipsis\u001b[38;5;241m=\u001b[39mellipsis, fill\u001b[38;5;241m=\u001b[39mfill, fillOpacity\u001b[38;5;241m=\u001b[39mfillOpacity,\n\u001b[0;32m   9670\u001b[0m                                   filled\u001b[38;5;241m=\u001b[39mfilled, font\u001b[38;5;241m=\u001b[39mfont, fontSize\u001b[38;5;241m=\u001b[39mfontSize, fontStyle\u001b[38;5;241m=\u001b[39mfontStyle,\n\u001b[0;32m   9671\u001b[0m                                   fontWeight\u001b[38;5;241m=\u001b[39mfontWeight, height\u001b[38;5;241m=\u001b[39mheight, href\u001b[38;5;241m=\u001b[39mhref,\n\u001b[0;32m   9672\u001b[0m                                   innerRadius\u001b[38;5;241m=\u001b[39minnerRadius, interpolate\u001b[38;5;241m=\u001b[39minterpolate, invalid\u001b[38;5;241m=\u001b[39minvalid,\n\u001b[0;32m   9673\u001b[0m                                   limit\u001b[38;5;241m=\u001b[39mlimit, line\u001b[38;5;241m=\u001b[39mline, lineBreak\u001b[38;5;241m=\u001b[39mlineBreak,\n\u001b[0;32m   9674\u001b[0m                                   lineHeight\u001b[38;5;241m=\u001b[39mlineHeight, opacity\u001b[38;5;241m=\u001b[39mopacity, order\u001b[38;5;241m=\u001b[39morder,\n\u001b[0;32m   9675\u001b[0m                                   orient\u001b[38;5;241m=\u001b[39morient, outerRadius\u001b[38;5;241m=\u001b[39mouterRadius, padAngle\u001b[38;5;241m=\u001b[39mpadAngle,\n\u001b[0;32m   9676\u001b[0m                                   point\u001b[38;5;241m=\u001b[39mpoint, radius\u001b[38;5;241m=\u001b[39mradius, radius2\u001b[38;5;241m=\u001b[39mradius2,\n\u001b[0;32m   9677\u001b[0m                                   radius2Offset\u001b[38;5;241m=\u001b[39mradius2Offset, radiusOffset\u001b[38;5;241m=\u001b[39mradiusOffset,\n\u001b[0;32m   9678\u001b[0m                                   shape\u001b[38;5;241m=\u001b[39mshape, size\u001b[38;5;241m=\u001b[39msize, smooth\u001b[38;5;241m=\u001b[39msmooth, stroke\u001b[38;5;241m=\u001b[39mstroke,\n\u001b[0;32m   9679\u001b[0m                                   strokeCap\u001b[38;5;241m=\u001b[39mstrokeCap, strokeDash\u001b[38;5;241m=\u001b[39mstrokeDash,\n\u001b[0;32m   9680\u001b[0m                                   strokeDashOffset\u001b[38;5;241m=\u001b[39mstrokeDashOffset, strokeJoin\u001b[38;5;241m=\u001b[39mstrokeJoin,\n\u001b[0;32m   9681\u001b[0m                                   strokeMiterLimit\u001b[38;5;241m=\u001b[39mstrokeMiterLimit, strokeOffset\u001b[38;5;241m=\u001b[39mstrokeOffset,\n\u001b[0;32m   9682\u001b[0m                                   strokeOpacity\u001b[38;5;241m=\u001b[39mstrokeOpacity, strokeWidth\u001b[38;5;241m=\u001b[39mstrokeWidth, style\u001b[38;5;241m=\u001b[39mstyle,\n\u001b[0;32m   9683\u001b[0m                                   tension\u001b[38;5;241m=\u001b[39mtension, text\u001b[38;5;241m=\u001b[39mtext, theta\u001b[38;5;241m=\u001b[39mtheta, theta2\u001b[38;5;241m=\u001b[39mtheta2,\n\u001b[0;32m   9684\u001b[0m                                   theta2Offset\u001b[38;5;241m=\u001b[39mtheta2Offset, thetaOffset\u001b[38;5;241m=\u001b[39mthetaOffset,\n\u001b[0;32m   9685\u001b[0m                                   thickness\u001b[38;5;241m=\u001b[39mthickness, timeUnitBandPosition\u001b[38;5;241m=\u001b[39mtimeUnitBandPosition,\n\u001b[0;32m   9686\u001b[0m                                   timeUnitBandSize\u001b[38;5;241m=\u001b[39mtimeUnitBandSize, tooltip\u001b[38;5;241m=\u001b[39mtooltip, url\u001b[38;5;241m=\u001b[39murl,\n\u001b[0;32m   9687\u001b[0m                                   width\u001b[38;5;241m=\u001b[39mwidth, x\u001b[38;5;241m=\u001b[39mx, x2\u001b[38;5;241m=\u001b[39mx2, x2Offset\u001b[38;5;241m=\u001b[39mx2Offset, xOffset\u001b[38;5;241m=\u001b[39mxOffset, y\u001b[38;5;241m=\u001b[39my,\n\u001b[0;32m   9688\u001b[0m                                   y2\u001b[38;5;241m=\u001b[39my2, y2Offset\u001b[38;5;241m=\u001b[39my2Offset, yOffset\u001b[38;5;241m=\u001b[39myOffset, \u001b[38;5;241m*\u001b[39m\u001b[38;5;241m*\u001b[39mkwds)\n",
      "File \u001b[1;32md:\\AppInstallationBin\\Anaconda\\NewFolder\\Lib\\site-packages\\altair\\vegalite\\v5\\schema\\core.py:103\u001b[0m, in \u001b[0;36mAnyMark.__init__\u001b[1;34m(self, *args, **kwds)\u001b[0m\n\u001b[0;32m    102\u001b[0m \u001b[38;5;28;01mdef\u001b[39;00m \u001b[38;5;21m__init__\u001b[39m(\u001b[38;5;28mself\u001b[39m, \u001b[38;5;241m*\u001b[39margs, \u001b[38;5;241m*\u001b[39m\u001b[38;5;241m*\u001b[39mkwds):\n\u001b[1;32m--> 103\u001b[0m     \u001b[38;5;28msuper\u001b[39m(AnyMark, \u001b[38;5;28mself\u001b[39m)\u001b[38;5;241m.\u001b[39m\u001b[38;5;21m__init__\u001b[39m(\u001b[38;5;241m*\u001b[39margs, \u001b[38;5;241m*\u001b[39m\u001b[38;5;241m*\u001b[39mkwds)\n",
      "File \u001b[1;32md:\\AppInstallationBin\\Anaconda\\NewFolder\\Lib\\site-packages\\altair\\utils\\schemapi.py:624\u001b[0m, in \u001b[0;36mSchemaBase.__init__\u001b[1;34m(self, *args, **kwds)\u001b[0m\n\u001b[0;32m    621\u001b[0m \u001b[38;5;28mobject\u001b[39m\u001b[38;5;241m.\u001b[39m\u001b[38;5;21m__setattr__\u001b[39m(\u001b[38;5;28mself\u001b[39m, \u001b[38;5;124m\"\u001b[39m\u001b[38;5;124m_kwds\u001b[39m\u001b[38;5;124m\"\u001b[39m, kwds)\n\u001b[0;32m    623\u001b[0m \u001b[38;5;28;01mif\u001b[39;00m DEBUG_MODE \u001b[38;5;129;01mand\u001b[39;00m \u001b[38;5;28mself\u001b[39m\u001b[38;5;241m.\u001b[39m_class_is_valid_at_instantiation:\n\u001b[1;32m--> 624\u001b[0m     \u001b[38;5;28mself\u001b[39m\u001b[38;5;241m.\u001b[39mto_dict(validate\u001b[38;5;241m=\u001b[39m\u001b[38;5;28;01mTrue\u001b[39;00m)\n",
      "File \u001b[1;32md:\\AppInstallationBin\\Anaconda\\NewFolder\\Lib\\site-packages\\altair\\utils\\schemapi.py:814\u001b[0m, in \u001b[0;36mSchemaBase.to_dict\u001b[1;34m(self, validate, ignore, context)\u001b[0m\n\u001b[0;32m    807\u001b[0m         \u001b[38;5;28mself\u001b[39m\u001b[38;5;241m.\u001b[39mvalidate(result)\n\u001b[0;32m    808\u001b[0m     \u001b[38;5;28;01mexcept\u001b[39;00m jsonschema\u001b[38;5;241m.\u001b[39mValidationError \u001b[38;5;28;01mas\u001b[39;00m err:\n\u001b[0;32m    809\u001b[0m         \u001b[38;5;66;03m# We do not raise `from err` as else the resulting\u001b[39;00m\n\u001b[0;32m    810\u001b[0m         \u001b[38;5;66;03m# traceback is very long as it contains part\u001b[39;00m\n\u001b[0;32m    811\u001b[0m         \u001b[38;5;66;03m# of the Vega-Lite schema. It would also first\u001b[39;00m\n\u001b[0;32m    812\u001b[0m         \u001b[38;5;66;03m# show the less helpful ValidationError instead of\u001b[39;00m\n\u001b[0;32m    813\u001b[0m         \u001b[38;5;66;03m# the more user friendly SchemaValidationError\u001b[39;00m\n\u001b[1;32m--> 814\u001b[0m         \u001b[38;5;28;01mraise\u001b[39;00m SchemaValidationError(\u001b[38;5;28mself\u001b[39m, err) \u001b[38;5;28;01mfrom\u001b[39;00m \u001b[38;5;28;01mNone\u001b[39;00m\n\u001b[0;32m    815\u001b[0m \u001b[38;5;28;01mreturn\u001b[39;00m result\n",
      "\u001b[1;31mSchemaValidationError\u001b[0m: Multiple errors were found.\n\nError 1: 'backers ' is an invalid value for `height`. Valid values are of type 'number' or 'object'.\n\nError 2: 'backers ' is an invalid value for `width`. Valid values are of type 'number' or 'object'."
     ]
    }
   ],
   "source": [
    "alt.Chart(df2016).mark_point(\n",
    "    width='backers ',\n",
    "    height='backers '\n",
    ")"
   ]
  },
  {
   "cell_type": "code",
   "execution_count": null,
   "metadata": {},
   "outputs": [],
   "source": []
  }
 ],
 "metadata": {
  "kernelspec": {
   "display_name": "Python 3",
   "language": "python",
   "name": "python3"
  },
  "language_info": {
   "codemirror_mode": {
    "name": "ipython",
    "version": 3
   },
   "file_extension": ".py",
   "mimetype": "text/x-python",
   "name": "python",
   "nbconvert_exporter": "python",
   "pygments_lexer": "ipython3",
   "version": "3.12.4"
  }
 },
 "nbformat": 4,
 "nbformat_minor": 2
}
